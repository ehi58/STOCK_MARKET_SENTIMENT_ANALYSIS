{
 "cells": [
  {
   "cell_type": "code",
   "execution_count": 5,
   "metadata": {},
   "outputs": [],
   "source": [
    "from time import sleep\n",
    "import numpy as np\n",
    "import pandas as pd\n",
    "import GetOldTweets3 as got"
   ]
  },
  {
   "cell_type": "code",
   "execution_count": 6,
   "metadata": {},
   "outputs": [],
   "source": [
    "#limit of 16k requests per 15 minutes. Sleep necessary to automate pipeline\n",
    "\n",
    "def rest(pause_len):\n",
    "    for i in range(pause_len):\n",
    "        print(str(pause_len-i),end= ' minutes to next batch')\n",
    "        for _ in range(4):\n",
    "            print(end='.')\n",
    "            sleep(15)\n",
    "        print()\n",
    "\n",
    "def scrape(dates):\n",
    "    print('starting')\n",
    "    pause_len = 16\n",
    "    day_max = 9000\n",
    "    for ctr, date in enumerate(dates[:-1]):\n",
    "        try:\n",
    "            # Search for #covid19 tweets on a given date\n",
    "            tweetCriteria = got.manager.TweetCriteria().setQuerySearch('covid-19')\\\n",
    "                                        .setMaxTweets(day_max)\\\n",
    "                                        .setSince(date)\\\n",
    "                                        .setUntil(dates[ctr+1])\\\n",
    "                                        .setTopTweets(True)\n",
    "            print('obtained tweets')\n",
    "            tweets = got.manager.TweetManager.getTweets(tweetCriteria)\n",
    "\n",
    "            # Convert Tweets to DF\n",
    "            if len(tweets) > 0:    \n",
    "                df =  pd.DataFrame([[tweet.id, tweet.permalink, tweet.text, tweet.username, \n",
    "                        tweet.date, tweet.to, tweet.mentions, tweet.hashtags, \n",
    "                        tweet.retweets, tweet.favorites, tweet.geo] for tweet in tweets])\n",
    "                df.columns = ['id','url','raw_text','username','datetime_tweet','to','mentions'\n",
    "                              ,'hashtags','retweets','favorites','geo']\n",
    "                # rm commas so it doesnt scre up csv later. \n",
    "                df['raw_text'] = df['raw_text'].apply(lambda x: x.replace(',',''))\n",
    "                # Create text column without search hashtag to prevent data leak \n",
    "                df['clean_text'] = df['raw_text'].apply(lambda x: x.lower())\n",
    "                # save df to csv. Rest if appicable, then query another day.\n",
    "                filename = date+'.csv'\n",
    "                df.to_csv(filename)\n",
    "                print(date, 'complete.',len(df),'tweets.')\n",
    "            else:\n",
    "                # Keep list of days that had no results. Just in case.\n",
    "                print(date, 'complete. No Tweets found in search. !# covid-19')\n",
    "            # write days w no results to txt file. \n",
    "        # too many requests or GoT3 down? Wait and try again.\n",
    "        except:\n",
    "            print('ERROR, retrying', date)\n",
    "            print(e)\n",
    "            rest(pause_len)\n",
    "            return scrape(dates[ctr:])\n",
    "    return '***** ALL DATA ACQUIRED! *****'"
   ]
  },
  {
   "cell_type": "code",
   "execution_count": 7,
   "metadata": {},
   "outputs": [],
   "source": [
    "# # generate list of dates\n",
    "# days_raw = [31,29,31,30,31,30,31,31,1] # total days of months between 1/1/2020 - 9/1/2020\n",
    "# dates = []\n",
    "# for month_num, month_days in enumerate(days_raw):\n",
    "#     month = []\n",
    "#     for i in range(month_days):\n",
    "#         month.append('2020-{:02d}'.format(month_num+9-len(days_raw))+'-{:02d}'.format(i+1))\n",
    "#     dates = dates + month\n",
    "\n",
    "# scrape(dates)"
   ]
  },
  {
   "cell_type": "code",
   "execution_count": 8,
   "metadata": {},
   "outputs": [
    {
     "name": "stdout",
     "output_type": "stream",
     "text": [
      "starting\n",
      "obtained tweets\n",
      "An error occured during an HTTP request: HTTP Error 429: Too Many Requests\n",
      "Try to open in browser: https://twitter.com/search?q=covid-19%20since%3A2020-06-23%20until%3A2020-06-24&src=typd\n",
      "ERROR, retrying 2020-06-23\n",
      "\n",
      "16 minutes to next batch....\n",
      "15 minutes to next batch....\n",
      "14 minutes to next batch....\n",
      "13 minutes to next batch....\n",
      "12 minutes to next batch....\n",
      "11 minutes to next batch....\n",
      "10 minutes to next batch....\n",
      "9 minutes to next batch....\n",
      "8 minutes to next batch....\n",
      "7 minutes to next batch....\n",
      "6 minutes to next batch....\n",
      "5 minutes to next batch....\n",
      "4 minutes to next batch....\n",
      "3 minutes to next batch....\n",
      "2 minutes to next batch....\n",
      "1 minutes to next batch....\n",
      "starting\n",
      "obtained tweets\n",
      "2020-06-23 complete. 9000 tweets.\n",
      "starting\n",
      "obtained tweets\n",
      "An error occured during an HTTP request: HTTP Error 429: Too Many Requests\n",
      "Try to open in browser: https://twitter.com/search?q=covid-19%20since%3A2020-04-29%20until%3A2020-04-30&src=typd\n",
      "ERROR, retrying 2020-04-29\n",
      "\n",
      "16 minutes to next batch....\n",
      "15 minutes to next batch....\n",
      "14 minutes to next batch....\n",
      "13 minutes to next batch....\n",
      "12 minutes to next batch....\n",
      "11 minutes to next batch....\n",
      "10 minutes to next batch....\n",
      "9 minutes to next batch....\n",
      "8 minutes to next batch....\n",
      "7 minutes to next batch....\n",
      "6 minutes to next batch....\n",
      "5 minutes to next batch....\n",
      "4 minutes to next batch....\n",
      "3 minutes to next batch....\n",
      "2 minutes to next batch....\n",
      "1 minutes to next batch....\n",
      "starting\n",
      "obtained tweets\n",
      "2020-04-29 complete. 9000 tweets.\n"
     ]
    },
    {
     "data": {
      "text/plain": [
       "'***** ALL DATA ACQUIRED! *****'"
      ]
     },
     "execution_count": 8,
     "metadata": {},
     "output_type": "execute_result"
    }
   ],
   "source": [
    "scrape(['2020-06-23','2020-06-24'])\n",
    "scrape(['2020-04-29','2020-04-30'])"
   ]
  },
  {
   "cell_type": "code",
   "execution_count": null,
   "metadata": {},
   "outputs": [],
   "source": []
  }
 ],
 "metadata": {
  "kernelspec": {
   "display_name": "Python 3",
   "language": "python",
   "name": "python3"
  },
  "language_info": {
   "codemirror_mode": {
    "name": "ipython",
    "version": 3
   },
   "file_extension": ".py",
   "mimetype": "text/x-python",
   "name": "python",
   "nbconvert_exporter": "python",
   "pygments_lexer": "ipython3",
   "version": "3.8.4"
  }
 },
 "nbformat": 4,
 "nbformat_minor": 4
}
